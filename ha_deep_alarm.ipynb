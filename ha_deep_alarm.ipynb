{
 "cells": [
  {
   "cell_type": "code",
   "execution_count": 1,
   "metadata": {},
   "outputs": [],
   "source": [
    "import numpy as np\n",
    "from sklearn.model_selection import train_test_split\n",
    "from sklearn.preprocessing import StandardScaler\n",
    "from sklearn.pipeline import Pipeline\n",
    "import tensorflow as tf\n",
    "from tensorflow.keras import Sequential\n",
    "from tensorflow.keras.layers import Dense\n",
    "from sklearn.metrics import confusion_matrix\n",
    "import matplotlib.pyplot as plt\n",
    "from tensorflow.keras.wrappers.scikit_learn import KerasClassifier\n",
    "from sklearn.model_selection import StratifiedKFold\n",
    "from sklearn.model_selection import cross_val_score\n",
    "import joblib"
   ]
  },
  {
   "cell_type": "code",
   "execution_count": 2,
   "metadata": {},
   "outputs": [],
   "source": [
    "from hamlfeeder.data_utils import *"
   ]
  },
  {
   "cell_type": "markdown",
   "metadata": {},
   "source": [
    "## Deep Learning Model for manage HomeAssistant Alarm based on anothers sensor states"
   ]
  },
  {
   "cell_type": "code",
   "execution_count": 3,
   "metadata": {},
   "outputs": [
    {
     "name": "stdout",
     "output_type": "stream",
     "text": [
      "Actualizando copia local de la base de datos...\n"
     ]
    }
   ],
   "source": [
    "update_database()\n",
    "df = get_normalized(get_dataframe(get_uuids()))\n",
    "X = df.loc[:, df.columns != 'target']\n",
    "y = df.target"
   ]
  },
  {
   "cell_type": "code",
   "execution_count": 4,
   "metadata": {},
   "outputs": [
    {
     "data": {
      "text/html": [
       "<div>\n",
       "<style scoped>\n",
       "    .dataframe tbody tr th:only-of-type {\n",
       "        vertical-align: middle;\n",
       "    }\n",
       "\n",
       "    .dataframe tbody tr th {\n",
       "        vertical-align: top;\n",
       "    }\n",
       "\n",
       "    .dataframe thead th {\n",
       "        text-align: right;\n",
       "    }\n",
       "</style>\n",
       "<table border=\"1\" class=\"dataframe\">\n",
       "  <thead>\n",
       "    <tr style=\"text-align: right;\">\n",
       "      <th></th>\n",
       "      <th>s</th>\n",
       "      <th>mvn</th>\n",
       "      <th>mvns</th>\n",
       "      <th>mvr</th>\n",
       "      <th>mvrs</th>\n",
       "      <th>ls</th>\n",
       "      <th>tv</th>\n",
       "      <th>sun</th>\n",
       "      <th>sl</th>\n",
       "      <th>sps</th>\n",
       "      <th>L</th>\n",
       "      <th>M</th>\n",
       "      <th>X</th>\n",
       "      <th>J</th>\n",
       "      <th>V</th>\n",
       "      <th>S</th>\n",
       "      <th>D</th>\n",
       "    </tr>\n",
       "  </thead>\n",
       "  <tbody>\n",
       "    <tr>\n",
       "      <th>0</th>\n",
       "      <td>0.619499</td>\n",
       "      <td>1</td>\n",
       "      <td>0.627235</td>\n",
       "      <td>0</td>\n",
       "      <td>0.284966</td>\n",
       "      <td>0</td>\n",
       "      <td>1</td>\n",
       "      <td>1</td>\n",
       "      <td>0.543347</td>\n",
       "      <td>0.439747</td>\n",
       "      <td>0</td>\n",
       "      <td>0</td>\n",
       "      <td>1</td>\n",
       "      <td>0</td>\n",
       "      <td>0</td>\n",
       "      <td>0</td>\n",
       "      <td>0</td>\n",
       "    </tr>\n",
       "    <tr>\n",
       "      <th>1</th>\n",
       "      <td>0.496415</td>\n",
       "      <td>0</td>\n",
       "      <td>0.003409</td>\n",
       "      <td>1</td>\n",
       "      <td>0.482667</td>\n",
       "      <td>0</td>\n",
       "      <td>1</td>\n",
       "      <td>1</td>\n",
       "      <td>0.549395</td>\n",
       "      <td>0.115405</td>\n",
       "      <td>0</td>\n",
       "      <td>0</td>\n",
       "      <td>0</td>\n",
       "      <td>0</td>\n",
       "      <td>0</td>\n",
       "      <td>1</td>\n",
       "      <td>0</td>\n",
       "    </tr>\n",
       "    <tr>\n",
       "      <th>2</th>\n",
       "      <td>0.525594</td>\n",
       "      <td>0</td>\n",
       "      <td>0.520455</td>\n",
       "      <td>0</td>\n",
       "      <td>0.270362</td>\n",
       "      <td>0</td>\n",
       "      <td>0</td>\n",
       "      <td>1</td>\n",
       "      <td>1.000000</td>\n",
       "      <td>0.293414</td>\n",
       "      <td>0</td>\n",
       "      <td>1</td>\n",
       "      <td>0</td>\n",
       "      <td>0</td>\n",
       "      <td>0</td>\n",
       "      <td>0</td>\n",
       "      <td>0</td>\n",
       "    </tr>\n",
       "    <tr>\n",
       "      <th>3</th>\n",
       "      <td>0.834978</td>\n",
       "      <td>1</td>\n",
       "      <td>0.813548</td>\n",
       "      <td>1</td>\n",
       "      <td>0.833580</td>\n",
       "      <td>0</td>\n",
       "      <td>1</td>\n",
       "      <td>0</td>\n",
       "      <td>0.105847</td>\n",
       "      <td>0.684812</td>\n",
       "      <td>0</td>\n",
       "      <td>1</td>\n",
       "      <td>0</td>\n",
       "      <td>0</td>\n",
       "      <td>0</td>\n",
       "      <td>0</td>\n",
       "      <td>0</td>\n",
       "    </tr>\n",
       "    <tr>\n",
       "      <th>4</th>\n",
       "      <td>0.667794</td>\n",
       "      <td>0</td>\n",
       "      <td>0.697159</td>\n",
       "      <td>1</td>\n",
       "      <td>0.667229</td>\n",
       "      <td>0</td>\n",
       "      <td>0</td>\n",
       "      <td>1</td>\n",
       "      <td>1.000000</td>\n",
       "      <td>0.529426</td>\n",
       "      <td>0</td>\n",
       "      <td>0</td>\n",
       "      <td>0</td>\n",
       "      <td>1</td>\n",
       "      <td>0</td>\n",
       "      <td>0</td>\n",
       "      <td>0</td>\n",
       "    </tr>\n",
       "  </tbody>\n",
       "</table>\n",
       "</div>"
      ],
      "text/plain": [
       "          s  mvn      mvns  mvr      mvrs  ls  tv  sun        sl       sps  L  \\\n",
       "0  0.619499    1  0.627235    0  0.284966   0   1    1  0.543347  0.439747  0   \n",
       "1  0.496415    0  0.003409    1  0.482667   0   1    1  0.549395  0.115405  0   \n",
       "2  0.525594    0  0.520455    0  0.270362   0   0    1  1.000000  0.293414  0   \n",
       "3  0.834978    1  0.813548    1  0.833580   0   1    0  0.105847  0.684812  0   \n",
       "4  0.667794    0  0.697159    1  0.667229   0   0    1  1.000000  0.529426  0   \n",
       "\n",
       "   M  X  J  V  S  D  \n",
       "0  0  1  0  0  0  0  \n",
       "1  0  0  0  0  1  0  \n",
       "2  1  0  0  0  0  0  \n",
       "3  1  0  0  0  0  0  \n",
       "4  0  0  1  0  0  0  "
      ]
     },
     "execution_count": 4,
     "metadata": {},
     "output_type": "execute_result"
    }
   ],
   "source": [
    "X.head()"
   ]
  },
  {
   "cell_type": "markdown",
   "metadata": {},
   "source": [
    "### Features in order: \n",
    "* Second of the Day\n",
    "* Mobile #1 presence\n",
    "* Mobile #1 last status change since in seconds\n",
    "* Mobile #2 presence\n",
    "* Mobile #2 last status change since in seconds\n",
    "* Lamp #1 status\n",
    "* Tv #1 status\n",
    "* Sun (Day/Night)\n",
    "* Light Sensor #1\n",
    "* Door last status change since in seconds, WeekDay."
   ]
  },
  {
   "cell_type": "code",
   "execution_count": 11,
   "metadata": {},
   "outputs": [
    {
     "name": "stdout",
     "output_type": "stream",
     "text": [
      "Total number of samples: 232 and features: 17\n",
      "Train samples: 155 Test samples: 77\n"
     ]
    }
   ],
   "source": [
    "X_train, X_test, y_train, y_test = train_test_split(X, y, test_size=0.33, random_state=42)\n",
    "print(\"Total number of samples: {} and features: {}\".format(X.shape[0], X.shape[1]))\n",
    "print(\"Train samples: {} Test samples: {}\".format(X_train.shape[0], X_test.shape[0]))"
   ]
  },
  {
   "cell_type": "code",
   "execution_count": 12,
   "metadata": {},
   "outputs": [
    {
     "name": "stdout",
     "output_type": "stream",
     "text": [
      "        Percentage\n",
      "target            \n",
      "0         0.573276\n",
      "1         0.426724\n"
     ]
    }
   ],
   "source": [
    "print(pd.DataFrame({'Percentage': df.groupby(('target')).size() / len(df)}))"
   ]
  },
  {
   "cell_type": "code",
   "execution_count": 13,
   "metadata": {},
   "outputs": [],
   "source": [
    "def create_model():\n",
    "    classifier = Sequential()\n",
    "    #First Hidden Layer\n",
    "    classifier.add(Dense(10, activation='relu', kernel_initializer='normal', input_dim=len(X_train.columns)))#Second  Hidden Layer\n",
    "    classifier.add(Dense(1, activation='relu', kernel_initializer='normal'))\n",
    "    classifier.compile(optimizer ='adam',loss='binary_crossentropy', metrics =['accuracy'])\n",
    "    return classifier"
   ]
  },
  {
   "cell_type": "code",
   "execution_count": 22,
   "metadata": {},
   "outputs": [
    {
     "name": "stdout",
     "output_type": "stream",
     "text": [
      "Results: 87.89% (+/- 8.76%)\n"
     ]
    }
   ],
   "source": [
    "#model = create_model()\n",
    "estimators = []\n",
    "estimators.append(('standardize', StandardScaler()))\n",
    "estimators.append(('mlp', KerasClassifier(build_fn=create_model, epochs=100, batch_size=10, verbose=0)))\n",
    "pipeline = Pipeline(estimators)\n",
    "kfold = StratifiedKFold(n_splits=10, shuffle=True)\n",
    "results = cross_val_score(pipeline, X_train, y_train, cv=kfold)\n",
    "print(\"Results: %.2f%% (+/- %.2f%%)\" % (results.mean()*100, results.std()*100))"
   ]
  },
  {
   "cell_type": "code",
   "execution_count": null,
   "metadata": {},
   "outputs": [],
   "source": []
  }
 ],
 "metadata": {
  "kernelspec": {
   "display_name": "Python 3",
   "language": "python",
   "name": "python3"
  },
  "language_info": {
   "codemirror_mode": {
    "name": "ipython",
    "version": 3
   },
   "file_extension": ".py",
   "mimetype": "text/x-python",
   "name": "python",
   "nbconvert_exporter": "python",
   "pygments_lexer": "ipython3",
   "version": "3.7.4"
  }
 },
 "nbformat": 4,
 "nbformat_minor": 2
}
